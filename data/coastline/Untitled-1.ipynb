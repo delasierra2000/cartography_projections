{
 "cells": [
  {
   "cell_type": "code",
   "execution_count": 1,
   "metadata": {},
   "outputs": [],
   "source": [
    "import numpy as np\n",
    "from typing import List, Dict, Union\n",
    "from numpy.typing import NDArray\n",
    "\n"
   ]
  },
  {
   "cell_type": "code",
   "execution_count": null,
   "metadata": {},
   "outputs": [],
   "source": [
    "VECTORES=np.array([[1,2,3],[3,4,5]])\n",
    "\n",
    "for i in range(0,10000):\n",
    "    VECTORES.np.append\n"
   ]
  },
  {
   "cell_type": "code",
   "execution_count": 4,
   "metadata": {},
   "outputs": [],
   "source": [
    "def func(vector: NDArray[np.float64])->NDArray[np.float64]:\n",
    "    \n",
    "    return sum(vector)"
   ]
  },
  {
   "cell_type": "code",
   "execution_count": 6,
   "metadata": {},
   "outputs": [
    {
     "data": {
      "text/plain": [
       "array([ 6, 12])"
      ]
     },
     "execution_count": 6,
     "metadata": {},
     "output_type": "execute_result"
    }
   ],
   "source": [
    "np.apply_along_axis(func,axis=1,arr=VECTORES)"
   ]
  },
  {
   "cell_type": "code",
   "execution_count": 11,
   "metadata": {},
   "outputs": [
    {
     "name": "stdout",
     "output_type": "stream",
     "text": [
      "[[1 2]\n",
      " [3 4]\n",
      " [5 6]]\n"
     ]
    }
   ],
   "source": [
    "a = np.array([[1, 2], [3, 4]])\n",
    "b = np.vstack([a, [5, 6]])\n",
    "print(b)"
   ]
  },
  {
   "cell_type": "code",
   "execution_count": 2,
   "metadata": {},
   "outputs": [],
   "source": [
    "def file_data_extraction(root: str)->List[NDArray[np.float64]]:\n",
    "\n",
    "    file=open(root,\"r\")\n",
    "    data=file.readlines()\n",
    "\n",
    "    #data treatment\n",
    "    data=[np.array((x.replace(\"\\t\",\"\").replace(\"\\n\",\"\")).split(\" \"),dtype=np.float64) for x in data if not (x[2]).isalpha()]\n",
    "\n",
    "    return data \n",
    "\n",
    "def file_data_extraction2(root: str)->NDArray[np.float64]:\n",
    "\n",
    "    file=open(root,\"r\")\n",
    "    data=file.readlines()\n",
    "\n",
    "    #data treatment\n",
    "    data=np.array([(x.replace(\"\\t\",\"\").replace(\"\\n\",\"\")).split(\" \") for x in data if not (x[2]).isalpha()],dtype=np.float64)\n",
    "\n",
    "    return data "
   ]
  },
  {
   "cell_type": "code",
   "execution_count": 9,
   "metadata": {},
   "outputs": [
    {
     "data": {
      "text/plain": [
       "array([[ 53.003056, 172.660556],\n",
       "       [ 53.003889, 172.669444],\n",
       "       [ 53.004444, 172.679722],\n",
       "       ...,\n",
       "       [-54.750556, 158.85    ],\n",
       "       [-54.751944, 158.840556],\n",
       "       [-54.7525  , 158.836944]], shape=(924434, 2))"
      ]
     },
     "execution_count": 9,
     "metadata": {},
     "output_type": "execute_result"
    }
   ],
   "source": [
    "root=\"./asia-cil.txt\"\n",
    "file_data_extraction2(root)"
   ]
  },
  {
   "cell_type": "code",
   "execution_count": 12,
   "metadata": {},
   "outputs": [
    {
     "data": {
      "text/plain": [
       "array([2, 4])"
      ]
     },
     "execution_count": 12,
     "metadata": {},
     "output_type": "execute_result"
    }
   ],
   "source": [
    "a[:,1]"
   ]
  },
  {
   "cell_type": "code",
   "execution_count": 25,
   "metadata": {},
   "outputs": [],
   "source": [
    "def rot(vector: NDArray[np.float64],lat_0: np.float64, long_0: np.float64)->NDArray[np.float64]:\n",
    "\n",
    "    factor=2*np.pi/360\n",
    "    lat=vector[:,0]*factor\n",
    "    long=vector[:,1]*factor\n",
    "    lat_0=lat_0*factor\n",
    "    long_0=long_0*factor\n",
    "\n",
    "    a=np.sin(lat)*np.cos(lat_0)\n",
    "    b=np.cos(lat)*np.cos(long-long_0)*np.sin(lat_0)\n",
    "    y=np.cos(lat)*np.sin(long-long_0)\n",
    "\n",
    "\n",
    "    new_lat=np.arcsin(a-b)/factor\n",
    "    new_long=(long_0+np.atan2(y,a+b))/factor\n",
    "\n",
    "    return np.stack((new_lat,new_long),axis=1)"
   ]
  },
  {
   "cell_type": "code",
   "execution_count": 26,
   "metadata": {},
   "outputs": [
    {
     "data": {
      "text/plain": [
       "array([[  0.,  90.],\n",
       "       [  0., 270.]])"
      ]
     },
     "execution_count": 26,
     "metadata": {},
     "output_type": "execute_result"
    }
   ],
   "source": [
    "rot(np.array([[30,90],[-30,270]]),30,90)"
   ]
  },
  {
   "cell_type": "code",
   "execution_count": 58,
   "metadata": {},
   "outputs": [],
   "source": [
    "#Spheric coortinates to Cartesian\n",
    "def EtoC(vector: NDArray[np.float64])->NDArray[np.float64]:\n",
    "\n",
    "\n",
    "    phi=vector[:,0]*2*np.pi/360\n",
    "    lamb=vector[:,1]*2*np.pi/360\n",
    "\n",
    "    X=np.cos(phi)*np.cos(lamb)\n",
    "    Y=np.cos(phi)*np.sin(lamb)\n",
    "    Z=np.sin(phi)\n",
    "\n",
    "    return np.stack((X,Y,Z),axis=1)\n",
    "\n",
    "\n",
    "\n",
    "def rot2(center:NDArray[np.float64])->NDArray[np.float64]:\n",
    "\n",
    "    lat_0=center[0]\n",
    "    long_0=center[1]\n",
    "\n",
    "\n",
    "    temp_vector=EtoC(np.array([[0,long_0]]))\n",
    "\n",
    "\n",
    "    rotation_vector=np.cross(np.array([0,0,1]),temp_vector)\n",
    "\n",
    "    \n",
    "\n",
    "\n",
    "    r1=rotation_vector[0][0]\n",
    "    r2=rotation_vector[0][1]\n",
    "    r3=rotation_vector[0][2]\n",
    "\n",
    "    U=np.array([[0,-r3,r2],[r3,0,-r1],[-r2,r1,0]])\n",
    "\n",
    "    R=np.cos(lat_0)*np.identity(3)+(1-np.cos(lat_0))*(rotation_vector*rotation_vector.T)+np.sin(lat_0)*U\n",
    "    return R\n",
    "\n",
    "def CtoE(vector: NDArray[np.float64])->NDArray[np.float64]:\n",
    "\n",
    "\n",
    "    x=vector[:,0]\n",
    "    y=vector[:,1]\n",
    "    z=vector[:,2]\n",
    "\n",
    "    phi=np.arcsin(z)\n",
    "    lamb=np.atan2(y,x)\n",
    "\n",
    "    return np.stack((phi,lamb),axis=1)"
   ]
  },
  {
   "cell_type": "code",
   "execution_count": 62,
   "metadata": {},
   "outputs": [
    {
     "data": {
      "text/plain": [
       "(array([[ 1.00000000e+00, -5.17871627e-17, -6.04994883e-17],\n",
       "        [-5.17871627e-17,  1.54251450e-01, -9.88031624e-01],\n",
       "        [ 6.04994883e-17,  9.88031624e-01,  1.54251450e-01]]),\n",
       " array([[ 1.00000000e+00, -6.12323400e-17, -0.00000000e+00],\n",
       "        [-6.12323400e-17,  3.74939946e-33,  0.00000000e+00],\n",
       "        [-0.00000000e+00,  0.00000000e+00,  0.00000000e+00]]))"
      ]
     },
     "execution_count": 78,
     "metadata": {},
     "output_type": "execute_result"
    }
   ],
   "source": [
    "prueba=EtoC(np.array([[30,90]]))\n",
    "rot2(np.array([30,90]))\n"
   ]
  },
  {
   "cell_type": "code",
   "execution_count": 44,
   "metadata": {},
   "outputs": [
    {
     "data": {
      "text/plain": [
       "array([[-0.64278761,  0.76604444,  0.        ]])"
      ]
     },
     "execution_count": 79,
     "metadata": {},
     "output_type": "execute_result"
    }
   ],
   "source": []
  },
  {
   "cell_type": "code",
   "execution_count": 172,
   "metadata": {},
   "outputs": [],
   "source": [
    "def EtoC(vector: NDArray[np.float64])->NDArray[np.float64]:\n",
    "\n",
    "\n",
    "    phi=vector[:,0]\n",
    "    lamb=vector[:,1]\n",
    "\n",
    "    X=np.cos(phi)*np.cos(lamb)\n",
    "    Y=np.cos(phi)*np.sin(lamb)\n",
    "    Z=np.sin(phi)\n",
    "\n",
    "    return np.stack((X,Y,Z),axis=1)\n",
    "\n",
    "def CtoE(vector: NDArray[np.float64])->NDArray[np.float64]:\n",
    "\n",
    "\n",
    "    x=vector[:,0]\n",
    "    y=vector[:,1]\n",
    "    z=vector[:,2]\n",
    "\n",
    "    phi=np.arcsin(z)\n",
    "    lamb=np.atan2(y,x)\n",
    "\n",
    "    return np.stack((phi,lamb),axis=1)\n",
    "\n",
    "def rot2(center:NDArray[np.float64])->NDArray[np.float64]:\n",
    "\n",
    "    lat_0=center[0]\n",
    "    long_0=center[1]\n",
    "\n",
    "    temp_vector=EtoC(np.array([[0,long_0]]))\n",
    "    rotation_vector=np.cross(np.array([0,0,1]),temp_vector)\n",
    "    r1=rotation_vector[0][0]\n",
    "    r2=rotation_vector[0][1]\n",
    "    r3=rotation_vector[0][2]\n",
    "\n",
    "    U=np.array([[0,-r3,r2],[r3,0,-r1],[-r2,r1,0]])\n",
    "    #lat_0=-lat_0\n",
    "    R=np.cos(lat_0)*np.identity(3)+(1-np.cos(lat_0))*(rotation_vector.T @ rotation_vector)+np.sin(lat_0)*U\n",
    "    return R.T"
   ]
  },
  {
   "cell_type": "code",
   "execution_count": 177,
   "metadata": {},
   "outputs": [
    {
     "data": {
      "text/plain": [
       "119.97736230039438"
      ]
     },
     "execution_count": 177,
     "metadata": {},
     "output_type": "execute_result"
    }
   ],
   "source": [
    "phi=30*2*np.pi/360\n",
    "lamb=120*2*np.pi/360\n",
    "CtoE(EtoC(np.array([[phi,lamb]])) @ rot2(np.array([phi,lamb])).T)\n",
    "\n"
   ]
  }
 ],
 "metadata": {
  "kernelspec": {
   "display_name": "base",
   "language": "python",
   "name": "python3"
  },
  "language_info": {
   "codemirror_mode": {
    "name": "ipython",
    "version": 3
   },
   "file_extension": ".py",
   "mimetype": "text/x-python",
   "name": "python",
   "nbconvert_exporter": "python",
   "pygments_lexer": "ipython3",
   "version": "3.12.9"
  }
 },
 "nbformat": 4,
 "nbformat_minor": 2
}
